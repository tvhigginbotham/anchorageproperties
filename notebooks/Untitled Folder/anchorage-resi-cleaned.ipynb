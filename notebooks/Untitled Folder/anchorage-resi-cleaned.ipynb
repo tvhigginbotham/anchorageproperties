{
 "cells": [
  {
   "cell_type": "code",
   "execution_count": 62,
   "id": "1cefb269",
   "metadata": {
    "scrolled": true
   },
   "outputs": [
    {
     "name": "stdout",
     "output_type": "stream",
     "text": [
      "Requirement already satisfied: pandas in /Users/timothyhigginbotham/opt/miniconda3/envs/ancprop/lib/python3.9/site-packages (1.4.2)\n",
      "Requirement already satisfied: pytz>=2020.1 in /Users/timothyhigginbotham/opt/miniconda3/envs/ancprop/lib/python3.9/site-packages (from pandas) (2022.1)\n",
      "Requirement already satisfied: numpy>=1.18.5 in /Users/timothyhigginbotham/opt/miniconda3/envs/ancprop/lib/python3.9/site-packages (from pandas) (1.22.3)\n",
      "Requirement already satisfied: python-dateutil>=2.8.1 in /Users/timothyhigginbotham/opt/miniconda3/envs/ancprop/lib/python3.9/site-packages (from pandas) (2.8.2)\n",
      "Requirement already satisfied: six>=1.5 in /Users/timothyhigginbotham/opt/miniconda3/envs/ancprop/lib/python3.9/site-packages (from python-dateutil>=2.8.1->pandas) (1.16.0)\n"
     ]
    }
   ],
   "source": [
    "!pip install pandas"
   ]
  },
  {
   "cell_type": "code",
   "execution_count": 63,
   "id": "1bd0af30",
   "metadata": {},
   "outputs": [],
   "source": [
    ">>> import pandas as pd\n",
    ">>> import numpy as np"
   ]
  },
  {
   "cell_type": "code",
   "execution_count": null,
   "id": "fd41aff7",
   "metadata": {},
   "outputs": [],
   "source": [
    ">>> to_drop = ['Appraisal Year',\n",
    "...            'Parcel ID URL',\n",
    "...            'Property Type',\n",
    "...            'Owner Line 1',\n",
    "...            'Owner Line 2',\n",
    "...            'Owner Line 3',\n",
    "...            'OwnerLine4',\n",
    "...            'Accessory Grade 4',\n",
    "              'Accessory Condition 4',\n",
    "              'Accessory Type 5',\n",
    "              'CAMAKey',\n",
    "              'Accessory Quantity 5',\n",
    "              'Accessory Area 5',\n",
    "              'Accessory Grade 5',\n",
    "              ]\n",
    "\n",
    ">>> df.drop(to_drop, inplace=True, axis=1)\n",
    "\n",
    ">>> to_drop = ['Owner City',\n",
    "...            'Owner State',\n",
    "...            'Owner ZIP',\n",
    "...            'Legal Description 1',\n",
    "...            'Legal Description 2',\n",
    "...            'Legal Description 3',\n",
    "...            'Condo Unit Number',\n",
    "...            'Accessory Area 3',\n",
    "              'Accessory Grade 3',\n",
    "              'Accessory Condition 3',\n",
    "              'Accessory Type 4',\n",
    "              'Accessory Quantity 4',\n",
    "              'Accessory Year Built 4',\n",
    "              'Accessory Area 4',\n",
    "               'Accessory Year Built 5',\n",
    "               'Accessory Condition 5'\n",
    "              ]\n",
    "\n",
    ">>> df.drop(to_drop, inplace=True, axis=1)\n",
    "\n",
    ">>> to_drop = ['Lot Size',\n",
    "...            'Zoning District',\n",
    "...            'Tax District',\n",
    "...            'Grid Map',\n",
    "...            'HRA #',\n",
    "...            'Deed Book',\n",
    "...            'Accessory Type 2',\n",
    "...            'Accessory Quantity 2',\n",
    "              'Accessory Year Built 2',\n",
    "              'Accessory Area 2',\n",
    "              'Accessory Grade 2',\n",
    "              'Accessory Condition 2',\n",
    "              'Accessory Type 3',\n",
    "              'Accessory Quantity 3',\n",
    "               'Accessory Year Built 3'\n",
    "              ]\n",
    "\n",
    ">>> df.drop(to_drop, inplace=True, axis=1)\n",
    "\n",
    ">>> to_drop = ['Lower Level Additions 1',\n",
    "...            'First Floor Additions 1',\n",
    "...            'Second Floor Additions 1',\n",
    "...            'Third Floor Additions 1',\n",
    "...            'Lower Level Additions 2',\n",
    "...            'First Floor Additions 2',\n",
    "...            'Second Floor Additions 2',\n",
    "              'Third Floor Additions 2',\n",
    "              'Area of Addition 2',\n",
    "              'Lower Level Additions 3',\n",
    "              'First Floor Additions 3',\n",
    "              'Second Floor Additions 3',\n",
    "               'Third Floor Additions 3',\n",
    "               'Area of Addition 3',\n",
    "               'Lower Level Additions 4',\n",
    "               'First Floor Additions 4',\n",
    "               'Second Floor Additions 4',\n",
    "               'Third Floor Additions 4',\n",
    "               'Area of Addition 4',\n",
    "               'First Floor Additions 5',\n",
    "               'Second Floor Additions 5',\n",
    "               'Area of Addition 5',\n",
    "               'Lower Level Additions 6',\n",
    "               'First Floor Additions 6',\n",
    "               'Second Floor Additions 6'\n",
    "              ]\n",
    "\n",
    ">>> df.drop(to_drop, inplace=True, axis=1)\n",
    "\n",
    ">>> to_drop = ['Class',\n",
    "              'Grade',\n",
    "              'Area Of Addition 1',\n",
    "               'Additions Lower Level 5',\n",
    "               'Third Floor Additions 5'\n",
    "              ]\n",
    ">>> df.drop(to_drop, inplace=True, axis=1)"
   ]
  },
  {
   "cell_type": "code",
   "execution_count": null,
   "id": "2e369836",
   "metadata": {
    "scrolled": true
   },
   "outputs": [],
   "source": [
    "#Dropping all null values from \"Year Built\"\n",
    "\n",
    "df = df.dropna(subset=['Year Built'])"
   ]
  },
  {
   "cell_type": "code",
   "execution_count": null,
   "id": "381bda98",
   "metadata": {},
   "outputs": [],
   "source": [
    "#splitting Location (x) into two columns: Latitude and Longitude\n",
    "df['x'].str.strip('()')                               \\\n",
    "                   .str.split(', ', expand=True)                   \\\n",
    "                   .rename(columns={0:'Latitude', 1:'Longitude'}) "
   ]
  },
  {
   "cell_type": "code",
   "execution_count": 69,
   "id": "91c8839f",
   "metadata": {},
   "outputs": [],
   "source": [
    "# Create two lists for the loop results to be placed\n",
    "lat = []\n",
    "lon = []\n",
    "\n",
    "# For each row in a varible,\n",
    "for row in df['x']:\n",
    "    # Try to,\n",
    "    try:\n",
    "        # Split the row by comma and append\n",
    "        # everything before the comma to lat\n",
    "        lat.append(row.split(',')[0])\n",
    "        # Split the row by comma and append\n",
    "        # everything after the comma to lon\n",
    "        lon.append(row.split(',')[1])\n",
    "    # But if you get an error\n",
    "    except:\n",
    "        # append a missing value to lat\n",
    "        lat.append(np.NaN)\n",
    "        # append a missing value to lon\n",
    "        lon.append(np.NaN)\n",
    "\n",
    "# Create two new columns from lat and lon\n",
    "df['latitude'] = lat\n",
    "df['longitude'] = lon# Create two lists for the loop results to be placed\n",
    "lat = []\n",
    "lon = []"
   ]
  },
  {
   "cell_type": "code",
   "execution_count": 88,
   "id": "38169b3f",
   "metadata": {},
   "outputs": [],
   "source": [
    "df.to_csv('resi-cleaned.csv')"
   ]
  }
 ],
 "metadata": {
  "kernelspec": {
   "display_name": "Python 3",
   "language": "python",
   "name": "python3"
  },
  "language_info": {
   "codemirror_mode": {
    "name": "ipython",
    "version": 3
   },
   "file_extension": ".py",
   "mimetype": "text/x-python",
   "name": "python",
   "nbconvert_exporter": "python",
   "pygments_lexer": "ipython3",
   "version": "3.9.1"
  }
 },
 "nbformat": 4,
 "nbformat_minor": 5
}
