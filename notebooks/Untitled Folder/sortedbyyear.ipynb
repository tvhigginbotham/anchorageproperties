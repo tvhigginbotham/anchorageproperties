{
 "cells": [
  {
   "cell_type": "code",
   "execution_count": 3,
   "id": "dfbdeb99",
   "metadata": {},
   "outputs": [],
   "source": [
    ">>> import pandas as pd\n",
    ">>> import numpy as np\n"
   ]
  },
  {
   "cell_type": "code",
   "execution_count": 14,
   "id": "aeb26c6b",
   "metadata": {},
   "outputs": [
    {
     "data": {
      "text/html": [
       "<div>\n",
       "<style scoped>\n",
       "    .dataframe tbody tr th:only-of-type {\n",
       "        vertical-align: middle;\n",
       "    }\n",
       "\n",
       "    .dataframe tbody tr th {\n",
       "        vertical-align: top;\n",
       "    }\n",
       "\n",
       "    .dataframe thead th {\n",
       "        text-align: right;\n",
       "    }\n",
       "</style>\n",
       "<table border=\"1\" class=\"dataframe\">\n",
       "  <thead>\n",
       "    <tr style=\"text-align: right;\">\n",
       "      <th></th>\n",
       "      <th>Year Built</th>\n",
       "      <th>lat</th>\n",
       "      <th>lng</th>\n",
       "    </tr>\n",
       "  </thead>\n",
       "  <tbody>\n",
       "    <tr>\n",
       "      <th>0</th>\n",
       "      <td>1978</td>\n",
       "      <td>61.218589</td>\n",
       "      <td>-149.905661</td>\n",
       "    </tr>\n",
       "    <tr>\n",
       "      <th>1</th>\n",
       "      <td>1978</td>\n",
       "      <td>61.218589</td>\n",
       "      <td>-149.905661</td>\n",
       "    </tr>\n",
       "    <tr>\n",
       "      <th>2</th>\n",
       "      <td>1978</td>\n",
       "      <td>61.218589</td>\n",
       "      <td>-149.905661</td>\n",
       "    </tr>\n",
       "    <tr>\n",
       "      <th>3</th>\n",
       "      <td>1978</td>\n",
       "      <td>61.218589</td>\n",
       "      <td>-149.905661</td>\n",
       "    </tr>\n",
       "    <tr>\n",
       "      <th>4</th>\n",
       "      <td>1978</td>\n",
       "      <td>61.218589</td>\n",
       "      <td>-149.905661</td>\n",
       "    </tr>\n",
       "  </tbody>\n",
       "</table>\n",
       "</div>"
      ],
      "text/plain": [
       "   Year Built        lat         lng\n",
       "0        1978  61.218589 -149.905661\n",
       "1        1978  61.218589 -149.905661\n",
       "2        1978  61.218589 -149.905661\n",
       "3        1978  61.218589 -149.905661\n",
       "4        1978  61.218589 -149.905661"
      ]
     },
     "execution_count": 14,
     "metadata": {},
     "output_type": "execute_result"
    }
   ],
   "source": [
    "df.head()"
   ]
  },
  {
   "cell_type": "code",
   "execution_count": 16,
   "id": "efcec272",
   "metadata": {},
   "outputs": [],
   "source": [
    "#remove all properties built after 1925\n",
    "\n",
    "df = df.drop(df.index[df['Year Built'] > 1925])"
   ]
  },
  {
   "cell_type": "code",
   "execution_count": 17,
   "id": "4c4304ac",
   "metadata": {},
   "outputs": [
    {
     "data": {
      "text/html": [
       "<div>\n",
       "<style scoped>\n",
       "    .dataframe tbody tr th:only-of-type {\n",
       "        vertical-align: middle;\n",
       "    }\n",
       "\n",
       "    .dataframe tbody tr th {\n",
       "        vertical-align: top;\n",
       "    }\n",
       "\n",
       "    .dataframe thead th {\n",
       "        text-align: right;\n",
       "    }\n",
       "</style>\n",
       "<table border=\"1\" class=\"dataframe\">\n",
       "  <thead>\n",
       "    <tr style=\"text-align: right;\">\n",
       "      <th></th>\n",
       "      <th>Year Built</th>\n",
       "      <th>lat</th>\n",
       "      <th>lng</th>\n",
       "    </tr>\n",
       "  </thead>\n",
       "  <tbody>\n",
       "    <tr>\n",
       "      <th>371</th>\n",
       "      <td>1916</td>\n",
       "      <td>61.213294</td>\n",
       "      <td>-149.912066</td>\n",
       "    </tr>\n",
       "    <tr>\n",
       "      <th>778</th>\n",
       "      <td>1913</td>\n",
       "      <td>61.212636</td>\n",
       "      <td>-149.909514</td>\n",
       "    </tr>\n",
       "    <tr>\n",
       "      <th>809</th>\n",
       "      <td>1923</td>\n",
       "      <td>61.207862</td>\n",
       "      <td>-149.899426</td>\n",
       "    </tr>\n",
       "    <tr>\n",
       "      <th>907</th>\n",
       "      <td>1916</td>\n",
       "      <td>61.208399</td>\n",
       "      <td>-149.904837</td>\n",
       "    </tr>\n",
       "    <tr>\n",
       "      <th>2905</th>\n",
       "      <td>1915</td>\n",
       "      <td>61.227668</td>\n",
       "      <td>-149.885540</td>\n",
       "    </tr>\n",
       "  </tbody>\n",
       "</table>\n",
       "</div>"
      ],
      "text/plain": [
       "      Year Built        lat         lng\n",
       "371         1916  61.213294 -149.912066\n",
       "778         1913  61.212636 -149.909514\n",
       "809         1923  61.207862 -149.899426\n",
       "907         1916  61.208399 -149.904837\n",
       "2905        1915  61.227668 -149.885540"
      ]
     },
     "execution_count": 17,
     "metadata": {},
     "output_type": "execute_result"
    }
   ],
   "source": [
    "df.head()"
   ]
  },
  {
   "cell_type": "code",
   "execution_count": 18,
   "id": "46acbf59",
   "metadata": {},
   "outputs": [],
   "source": [
    "#save as layer\n",
    "\n",
    "df.to_csv('anch1925.csv')"
   ]
  },
  {
   "cell_type": "code",
   "execution_count": 19,
   "id": "a20d1c93",
   "metadata": {},
   "outputs": [
    {
     "data": {
      "text/html": [
       "<div>\n",
       "<style scoped>\n",
       "    .dataframe tbody tr th:only-of-type {\n",
       "        vertical-align: middle;\n",
       "    }\n",
       "\n",
       "    .dataframe tbody tr th {\n",
       "        vertical-align: top;\n",
       "    }\n",
       "\n",
       "    .dataframe thead th {\n",
       "        text-align: right;\n",
       "    }\n",
       "</style>\n",
       "<table border=\"1\" class=\"dataframe\">\n",
       "  <thead>\n",
       "    <tr style=\"text-align: right;\">\n",
       "      <th></th>\n",
       "      <th>Unnamed: 0</th>\n",
       "      <th>index</th>\n",
       "      <th>Year Built</th>\n",
       "      <th>lat</th>\n",
       "      <th>lng</th>\n",
       "    </tr>\n",
       "  </thead>\n",
       "  <tbody>\n",
       "    <tr>\n",
       "      <th>0</th>\n",
       "      <td>0</td>\n",
       "      <td>0</td>\n",
       "      <td>1978</td>\n",
       "      <td>61.218589</td>\n",
       "      <td>-149.905661</td>\n",
       "    </tr>\n",
       "    <tr>\n",
       "      <th>1</th>\n",
       "      <td>1</td>\n",
       "      <td>1</td>\n",
       "      <td>1978</td>\n",
       "      <td>61.218589</td>\n",
       "      <td>-149.905661</td>\n",
       "    </tr>\n",
       "    <tr>\n",
       "      <th>2</th>\n",
       "      <td>2</td>\n",
       "      <td>2</td>\n",
       "      <td>1978</td>\n",
       "      <td>61.218589</td>\n",
       "      <td>-149.905661</td>\n",
       "    </tr>\n",
       "    <tr>\n",
       "      <th>3</th>\n",
       "      <td>3</td>\n",
       "      <td>3</td>\n",
       "      <td>1978</td>\n",
       "      <td>61.218589</td>\n",
       "      <td>-149.905661</td>\n",
       "    </tr>\n",
       "    <tr>\n",
       "      <th>4</th>\n",
       "      <td>4</td>\n",
       "      <td>4</td>\n",
       "      <td>1978</td>\n",
       "      <td>61.218589</td>\n",
       "      <td>-149.905661</td>\n",
       "    </tr>\n",
       "  </tbody>\n",
       "</table>\n",
       "</div>"
      ],
      "text/plain": [
       "   Unnamed: 0  index  Year Built        lat         lng\n",
       "0           0      0        1978  61.218589 -149.905661\n",
       "1           1      1        1978  61.218589 -149.905661\n",
       "2           2      2        1978  61.218589 -149.905661\n",
       "3           3      3        1978  61.218589 -149.905661\n",
       "4           4      4        1978  61.218589 -149.905661"
      ]
     },
     "execution_count": 19,
     "metadata": {},
     "output_type": "execute_result"
    }
   ],
   "source": [
    ">>> df = pd.read_csv('resi-cleaned.csv')\n",
    ">>> df.head()"
   ]
  },
  {
   "cell_type": "code",
   "execution_count": 22,
   "id": "5cbb9835",
   "metadata": {},
   "outputs": [
    {
     "data": {
      "text/html": [
       "<div>\n",
       "<style scoped>\n",
       "    .dataframe tbody tr th:only-of-type {\n",
       "        vertical-align: middle;\n",
       "    }\n",
       "\n",
       "    .dataframe tbody tr th {\n",
       "        vertical-align: top;\n",
       "    }\n",
       "\n",
       "    .dataframe thead th {\n",
       "        text-align: right;\n",
       "    }\n",
       "</style>\n",
       "<table border=\"1\" class=\"dataframe\">\n",
       "  <thead>\n",
       "    <tr style=\"text-align: right;\">\n",
       "      <th></th>\n",
       "      <th>Unnamed: 0</th>\n",
       "      <th>index</th>\n",
       "      <th>Year Built</th>\n",
       "      <th>lat</th>\n",
       "      <th>lng</th>\n",
       "    </tr>\n",
       "  </thead>\n",
       "  <tbody>\n",
       "    <tr>\n",
       "      <th>18</th>\n",
       "      <td>18</td>\n",
       "      <td>18</td>\n",
       "      <td>1930</td>\n",
       "      <td>61.215304</td>\n",
       "      <td>-149.909986</td>\n",
       "    </tr>\n",
       "    <tr>\n",
       "      <th>166</th>\n",
       "      <td>166</td>\n",
       "      <td>166</td>\n",
       "      <td>1937</td>\n",
       "      <td>61.214692</td>\n",
       "      <td>-149.906538</td>\n",
       "    </tr>\n",
       "    <tr>\n",
       "      <th>167</th>\n",
       "      <td>167</td>\n",
       "      <td>167</td>\n",
       "      <td>1931</td>\n",
       "      <td>61.215044</td>\n",
       "      <td>-149.905948</td>\n",
       "    </tr>\n",
       "    <tr>\n",
       "      <th>250</th>\n",
       "      <td>250</td>\n",
       "      <td>250</td>\n",
       "      <td>1935</td>\n",
       "      <td>61.214889</td>\n",
       "      <td>-149.905611</td>\n",
       "    </tr>\n",
       "    <tr>\n",
       "      <th>253</th>\n",
       "      <td>253</td>\n",
       "      <td>253</td>\n",
       "      <td>1939</td>\n",
       "      <td>61.215178</td>\n",
       "      <td>-149.905612</td>\n",
       "    </tr>\n",
       "  </tbody>\n",
       "</table>\n",
       "</div>"
      ],
      "text/plain": [
       "     Unnamed: 0  index  Year Built        lat         lng\n",
       "18           18     18        1930  61.215304 -149.909986\n",
       "166         166    166        1937  61.214692 -149.906538\n",
       "167         167    167        1931  61.215044 -149.905948\n",
       "250         250    250        1935  61.214889 -149.905611\n",
       "253         253    253        1939  61.215178 -149.905612"
      ]
     },
     "execution_count": 22,
     "metadata": {},
     "output_type": "execute_result"
    }
   ],
   "source": [
    "#remove all homes built before 1926 and after 1940\n",
    "\n",
    "df = df.drop(df.index[df['Year Built'] > 1940])\n",
    "\n",
    "df = df.drop(df.index[df['Year Built'] < 1925])\n",
    "\n",
    "df.head()"
   ]
  },
  {
   "cell_type": "code",
   "execution_count": 23,
   "id": "d7cf21cc",
   "metadata": {},
   "outputs": [],
   "source": [
    "# save as layer\n",
    "df.to_csv('anch26-40.csv')"
   ]
  },
  {
   "cell_type": "code",
   "execution_count": 24,
   "id": "537ab3e4",
   "metadata": {
    "scrolled": true
   },
   "outputs": [
    {
     "data": {
      "text/html": [
       "<div>\n",
       "<style scoped>\n",
       "    .dataframe tbody tr th:only-of-type {\n",
       "        vertical-align: middle;\n",
       "    }\n",
       "\n",
       "    .dataframe tbody tr th {\n",
       "        vertical-align: top;\n",
       "    }\n",
       "\n",
       "    .dataframe thead th {\n",
       "        text-align: right;\n",
       "    }\n",
       "</style>\n",
       "<table border=\"1\" class=\"dataframe\">\n",
       "  <thead>\n",
       "    <tr style=\"text-align: right;\">\n",
       "      <th></th>\n",
       "      <th>Unnamed: 0</th>\n",
       "      <th>index</th>\n",
       "      <th>Year Built</th>\n",
       "      <th>lat</th>\n",
       "      <th>lng</th>\n",
       "    </tr>\n",
       "  </thead>\n",
       "  <tbody>\n",
       "    <tr>\n",
       "      <th>0</th>\n",
       "      <td>0</td>\n",
       "      <td>0</td>\n",
       "      <td>1978</td>\n",
       "      <td>61.218589</td>\n",
       "      <td>-149.905661</td>\n",
       "    </tr>\n",
       "    <tr>\n",
       "      <th>1</th>\n",
       "      <td>1</td>\n",
       "      <td>1</td>\n",
       "      <td>1978</td>\n",
       "      <td>61.218589</td>\n",
       "      <td>-149.905661</td>\n",
       "    </tr>\n",
       "    <tr>\n",
       "      <th>2</th>\n",
       "      <td>2</td>\n",
       "      <td>2</td>\n",
       "      <td>1978</td>\n",
       "      <td>61.218589</td>\n",
       "      <td>-149.905661</td>\n",
       "    </tr>\n",
       "    <tr>\n",
       "      <th>3</th>\n",
       "      <td>3</td>\n",
       "      <td>3</td>\n",
       "      <td>1978</td>\n",
       "      <td>61.218589</td>\n",
       "      <td>-149.905661</td>\n",
       "    </tr>\n",
       "    <tr>\n",
       "      <th>4</th>\n",
       "      <td>4</td>\n",
       "      <td>4</td>\n",
       "      <td>1978</td>\n",
       "      <td>61.218589</td>\n",
       "      <td>-149.905661</td>\n",
       "    </tr>\n",
       "  </tbody>\n",
       "</table>\n",
       "</div>"
      ],
      "text/plain": [
       "   Unnamed: 0  index  Year Built        lat         lng\n",
       "0           0      0        1978  61.218589 -149.905661\n",
       "1           1      1        1978  61.218589 -149.905661\n",
       "2           2      2        1978  61.218589 -149.905661\n",
       "3           3      3        1978  61.218589 -149.905661\n",
       "4           4      4        1978  61.218589 -149.905661"
      ]
     },
     "execution_count": 24,
     "metadata": {},
     "output_type": "execute_result"
    }
   ],
   "source": [
    ">>> df = pd.read_csv('resi-cleaned.csv')\n",
    ">>> df.head()"
   ]
  },
  {
   "cell_type": "code",
   "execution_count": 25,
   "id": "b305bf01",
   "metadata": {},
   "outputs": [],
   "source": [
    ">>> to_drop = ['Unnamed: 0', 'index']\n",
    "\n",
    ">>> df.drop(to_drop, inplace=True, axis=1)"
   ]
  },
  {
   "cell_type": "code",
   "execution_count": 28,
   "id": "7b1deafd",
   "metadata": {},
   "outputs": [],
   "source": [
    "#remove all homes built before 1940 and after 1960\n",
    "\n",
    "df = df.drop(df.index[df['Year Built'] < 1941])\n",
    "\n",
    "df = df.drop(df.index[df['Year Built'] > 1960])\n",
    "\n"
   ]
  },
  {
   "cell_type": "code",
   "execution_count": null,
   "id": "2d7589fa",
   "metadata": {},
   "outputs": [],
   "source": [
    "#save as layer\n",
    "\n",
    ">>> df = pd.read_csv('resi-cleaned.csv')"
   ]
  },
  {
   "cell_type": "code",
   "execution_count": 33,
   "id": "b11bc0b5",
   "metadata": {},
   "outputs": [],
   "source": [
    "#remove all home built before 1960 and 1969\n",
    "\n",
    "df = df.drop(df.index[df['Year Built'] < 1961])\n",
    "\n",
    "df = df.drop(df.index[df['Year Built'] > 1969])"
   ]
  },
  {
   "cell_type": "code",
   "execution_count": 35,
   "id": "2903ff26",
   "metadata": {},
   "outputs": [],
   "source": [
    "#save as layer, repeat with remaining desired layers\n",
    "df.to_csv('anch61-69.csv')"
   ]
  },
  {
   "cell_type": "code",
   "execution_count": 36,
   "id": "a3051fa6",
   "metadata": {},
   "outputs": [
    {
     "data": {
      "text/html": [
       "<div>\n",
       "<style scoped>\n",
       "    .dataframe tbody tr th:only-of-type {\n",
       "        vertical-align: middle;\n",
       "    }\n",
       "\n",
       "    .dataframe tbody tr th {\n",
       "        vertical-align: top;\n",
       "    }\n",
       "\n",
       "    .dataframe thead th {\n",
       "        text-align: right;\n",
       "    }\n",
       "</style>\n",
       "<table border=\"1\" class=\"dataframe\">\n",
       "  <thead>\n",
       "    <tr style=\"text-align: right;\">\n",
       "      <th></th>\n",
       "      <th>Unnamed: 0</th>\n",
       "      <th>Year Built</th>\n",
       "      <th>lat</th>\n",
       "      <th>lng</th>\n",
       "    </tr>\n",
       "  </thead>\n",
       "  <tbody>\n",
       "    <tr>\n",
       "      <th>0</th>\n",
       "      <td>0</td>\n",
       "      <td>1978</td>\n",
       "      <td>61.218589</td>\n",
       "      <td>-149.905661</td>\n",
       "    </tr>\n",
       "    <tr>\n",
       "      <th>1</th>\n",
       "      <td>1</td>\n",
       "      <td>1978</td>\n",
       "      <td>61.218589</td>\n",
       "      <td>-149.905661</td>\n",
       "    </tr>\n",
       "    <tr>\n",
       "      <th>2</th>\n",
       "      <td>2</td>\n",
       "      <td>1978</td>\n",
       "      <td>61.218589</td>\n",
       "      <td>-149.905661</td>\n",
       "    </tr>\n",
       "    <tr>\n",
       "      <th>3</th>\n",
       "      <td>3</td>\n",
       "      <td>1978</td>\n",
       "      <td>61.218589</td>\n",
       "      <td>-149.905661</td>\n",
       "    </tr>\n",
       "    <tr>\n",
       "      <th>4</th>\n",
       "      <td>4</td>\n",
       "      <td>1978</td>\n",
       "      <td>61.218589</td>\n",
       "      <td>-149.905661</td>\n",
       "    </tr>\n",
       "  </tbody>\n",
       "</table>\n",
       "</div>"
      ],
      "text/plain": [
       "   Unnamed: 0  Year Built        lat         lng\n",
       "0           0        1978  61.218589 -149.905661\n",
       "1           1        1978  61.218589 -149.905661\n",
       "2           2        1978  61.218589 -149.905661\n",
       "3           3        1978  61.218589 -149.905661\n",
       "4           4        1978  61.218589 -149.905661"
      ]
     },
     "execution_count": 36,
     "metadata": {},
     "output_type": "execute_result"
    }
   ],
   "source": [
    ">>> df = pd.read_csv('resi-cleaned.csv')\n",
    ">>> df.head()"
   ]
  },
  {
   "cell_type": "code",
   "execution_count": 37,
   "id": "07a3d064",
   "metadata": {},
   "outputs": [],
   "source": [
    ">>> to_drop = ['Unnamed: 0']\n",
    "\n",
    ">>> df.drop(to_drop, inplace=True, axis=1)"
   ]
  },
  {
   "cell_type": "code",
   "execution_count": 38,
   "id": "5e7613c8",
   "metadata": {},
   "outputs": [],
   "source": [
    "df = df.drop(df.index[df['Year Built'] < 1970])"
   ]
  },
  {
   "cell_type": "code",
   "execution_count": 39,
   "id": "72208efd",
   "metadata": {},
   "outputs": [],
   "source": [
    "df = df.drop(df.index[df['Year Built'] > 1979])"
   ]
  },
  {
   "cell_type": "code",
   "execution_count": 40,
   "id": "9175085b",
   "metadata": {},
   "outputs": [],
   "source": [
    "df.to_csv('anch71-79.csv')"
   ]
  },
  {
   "cell_type": "code",
   "execution_count": 41,
   "id": "1ef326db",
   "metadata": {},
   "outputs": [
    {
     "data": {
      "text/html": [
       "<div>\n",
       "<style scoped>\n",
       "    .dataframe tbody tr th:only-of-type {\n",
       "        vertical-align: middle;\n",
       "    }\n",
       "\n",
       "    .dataframe tbody tr th {\n",
       "        vertical-align: top;\n",
       "    }\n",
       "\n",
       "    .dataframe thead th {\n",
       "        text-align: right;\n",
       "    }\n",
       "</style>\n",
       "<table border=\"1\" class=\"dataframe\">\n",
       "  <thead>\n",
       "    <tr style=\"text-align: right;\">\n",
       "      <th></th>\n",
       "      <th>Unnamed: 0</th>\n",
       "      <th>Year Built</th>\n",
       "      <th>lat</th>\n",
       "      <th>lng</th>\n",
       "    </tr>\n",
       "  </thead>\n",
       "  <tbody>\n",
       "    <tr>\n",
       "      <th>0</th>\n",
       "      <td>0</td>\n",
       "      <td>1978</td>\n",
       "      <td>61.218589</td>\n",
       "      <td>-149.905661</td>\n",
       "    </tr>\n",
       "    <tr>\n",
       "      <th>1</th>\n",
       "      <td>1</td>\n",
       "      <td>1978</td>\n",
       "      <td>61.218589</td>\n",
       "      <td>-149.905661</td>\n",
       "    </tr>\n",
       "    <tr>\n",
       "      <th>2</th>\n",
       "      <td>2</td>\n",
       "      <td>1978</td>\n",
       "      <td>61.218589</td>\n",
       "      <td>-149.905661</td>\n",
       "    </tr>\n",
       "    <tr>\n",
       "      <th>3</th>\n",
       "      <td>3</td>\n",
       "      <td>1978</td>\n",
       "      <td>61.218589</td>\n",
       "      <td>-149.905661</td>\n",
       "    </tr>\n",
       "    <tr>\n",
       "      <th>4</th>\n",
       "      <td>4</td>\n",
       "      <td>1978</td>\n",
       "      <td>61.218589</td>\n",
       "      <td>-149.905661</td>\n",
       "    </tr>\n",
       "  </tbody>\n",
       "</table>\n",
       "</div>"
      ],
      "text/plain": [
       "   Unnamed: 0  Year Built        lat         lng\n",
       "0           0        1978  61.218589 -149.905661\n",
       "1           1        1978  61.218589 -149.905661\n",
       "2           2        1978  61.218589 -149.905661\n",
       "3           3        1978  61.218589 -149.905661\n",
       "4           4        1978  61.218589 -149.905661"
      ]
     },
     "execution_count": 41,
     "metadata": {},
     "output_type": "execute_result"
    }
   ],
   "source": [
    ">>> df = pd.read_csv('resi-cleaned.csv')\n",
    ">>> df.head()"
   ]
  },
  {
   "cell_type": "code",
   "execution_count": 42,
   "id": "8d434b45",
   "metadata": {},
   "outputs": [],
   "source": [
    ">>> to_drop = ['Unnamed: 0']\n",
    "\n",
    ">>> df.drop(to_drop, inplace=True, axis=1)"
   ]
  },
  {
   "cell_type": "code",
   "execution_count": 43,
   "id": "ead3a18c",
   "metadata": {},
   "outputs": [],
   "source": [
    "df = df.drop(df.index[df['Year Built'] < 1980])"
   ]
  },
  {
   "cell_type": "code",
   "execution_count": 44,
   "id": "ccb88cf7",
   "metadata": {},
   "outputs": [],
   "source": [
    "df = df.drop(df.index[df['Year Built'] > 1989])"
   ]
  },
  {
   "cell_type": "code",
   "execution_count": 45,
   "id": "f3acaf1c",
   "metadata": {},
   "outputs": [],
   "source": [
    "df.to_csv('anch80-89.csv')"
   ]
  },
  {
   "cell_type": "code",
   "execution_count": 46,
   "id": "64b0afef",
   "metadata": {},
   "outputs": [
    {
     "data": {
      "text/html": [
       "<div>\n",
       "<style scoped>\n",
       "    .dataframe tbody tr th:only-of-type {\n",
       "        vertical-align: middle;\n",
       "    }\n",
       "\n",
       "    .dataframe tbody tr th {\n",
       "        vertical-align: top;\n",
       "    }\n",
       "\n",
       "    .dataframe thead th {\n",
       "        text-align: right;\n",
       "    }\n",
       "</style>\n",
       "<table border=\"1\" class=\"dataframe\">\n",
       "  <thead>\n",
       "    <tr style=\"text-align: right;\">\n",
       "      <th></th>\n",
       "      <th>Unnamed: 0</th>\n",
       "      <th>Year Built</th>\n",
       "      <th>lat</th>\n",
       "      <th>lng</th>\n",
       "    </tr>\n",
       "  </thead>\n",
       "  <tbody>\n",
       "    <tr>\n",
       "      <th>0</th>\n",
       "      <td>0</td>\n",
       "      <td>1978</td>\n",
       "      <td>61.218589</td>\n",
       "      <td>-149.905661</td>\n",
       "    </tr>\n",
       "    <tr>\n",
       "      <th>1</th>\n",
       "      <td>1</td>\n",
       "      <td>1978</td>\n",
       "      <td>61.218589</td>\n",
       "      <td>-149.905661</td>\n",
       "    </tr>\n",
       "    <tr>\n",
       "      <th>2</th>\n",
       "      <td>2</td>\n",
       "      <td>1978</td>\n",
       "      <td>61.218589</td>\n",
       "      <td>-149.905661</td>\n",
       "    </tr>\n",
       "    <tr>\n",
       "      <th>3</th>\n",
       "      <td>3</td>\n",
       "      <td>1978</td>\n",
       "      <td>61.218589</td>\n",
       "      <td>-149.905661</td>\n",
       "    </tr>\n",
       "    <tr>\n",
       "      <th>4</th>\n",
       "      <td>4</td>\n",
       "      <td>1978</td>\n",
       "      <td>61.218589</td>\n",
       "      <td>-149.905661</td>\n",
       "    </tr>\n",
       "  </tbody>\n",
       "</table>\n",
       "</div>"
      ],
      "text/plain": [
       "   Unnamed: 0  Year Built        lat         lng\n",
       "0           0        1978  61.218589 -149.905661\n",
       "1           1        1978  61.218589 -149.905661\n",
       "2           2        1978  61.218589 -149.905661\n",
       "3           3        1978  61.218589 -149.905661\n",
       "4           4        1978  61.218589 -149.905661"
      ]
     },
     "execution_count": 46,
     "metadata": {},
     "output_type": "execute_result"
    }
   ],
   "source": [
    ">>> df = pd.read_csv('resi-cleaned.csv')\n",
    ">>> df.head()"
   ]
  },
  {
   "cell_type": "code",
   "execution_count": 47,
   "id": "6dadb586",
   "metadata": {},
   "outputs": [],
   "source": [
    ">>> to_drop = ['Unnamed: 0']\n",
    "\n",
    ">>> df.drop(to_drop, inplace=True, axis=1)"
   ]
  },
  {
   "cell_type": "code",
   "execution_count": 48,
   "id": "bc20e5a4",
   "metadata": {},
   "outputs": [],
   "source": [
    "df = df.drop(df.index[df['Year Built'] < 1990])"
   ]
  },
  {
   "cell_type": "code",
   "execution_count": 49,
   "id": "0639ab71",
   "metadata": {},
   "outputs": [],
   "source": [
    "df = df.drop(df.index[df['Year Built'] > 1999])"
   ]
  },
  {
   "cell_type": "code",
   "execution_count": 50,
   "id": "2fd0462c",
   "metadata": {},
   "outputs": [],
   "source": [
    "df.to_csv('anch90-99.csv')"
   ]
  },
  {
   "cell_type": "code",
   "execution_count": 51,
   "id": "ddeb42be",
   "metadata": {},
   "outputs": [
    {
     "data": {
      "text/html": [
       "<div>\n",
       "<style scoped>\n",
       "    .dataframe tbody tr th:only-of-type {\n",
       "        vertical-align: middle;\n",
       "    }\n",
       "\n",
       "    .dataframe tbody tr th {\n",
       "        vertical-align: top;\n",
       "    }\n",
       "\n",
       "    .dataframe thead th {\n",
       "        text-align: right;\n",
       "    }\n",
       "</style>\n",
       "<table border=\"1\" class=\"dataframe\">\n",
       "  <thead>\n",
       "    <tr style=\"text-align: right;\">\n",
       "      <th></th>\n",
       "      <th>Unnamed: 0</th>\n",
       "      <th>Year Built</th>\n",
       "      <th>lat</th>\n",
       "      <th>lng</th>\n",
       "    </tr>\n",
       "  </thead>\n",
       "  <tbody>\n",
       "    <tr>\n",
       "      <th>0</th>\n",
       "      <td>0</td>\n",
       "      <td>1978</td>\n",
       "      <td>61.218589</td>\n",
       "      <td>-149.905661</td>\n",
       "    </tr>\n",
       "    <tr>\n",
       "      <th>1</th>\n",
       "      <td>1</td>\n",
       "      <td>1978</td>\n",
       "      <td>61.218589</td>\n",
       "      <td>-149.905661</td>\n",
       "    </tr>\n",
       "    <tr>\n",
       "      <th>2</th>\n",
       "      <td>2</td>\n",
       "      <td>1978</td>\n",
       "      <td>61.218589</td>\n",
       "      <td>-149.905661</td>\n",
       "    </tr>\n",
       "    <tr>\n",
       "      <th>3</th>\n",
       "      <td>3</td>\n",
       "      <td>1978</td>\n",
       "      <td>61.218589</td>\n",
       "      <td>-149.905661</td>\n",
       "    </tr>\n",
       "    <tr>\n",
       "      <th>4</th>\n",
       "      <td>4</td>\n",
       "      <td>1978</td>\n",
       "      <td>61.218589</td>\n",
       "      <td>-149.905661</td>\n",
       "    </tr>\n",
       "  </tbody>\n",
       "</table>\n",
       "</div>"
      ],
      "text/plain": [
       "   Unnamed: 0  Year Built        lat         lng\n",
       "0           0        1978  61.218589 -149.905661\n",
       "1           1        1978  61.218589 -149.905661\n",
       "2           2        1978  61.218589 -149.905661\n",
       "3           3        1978  61.218589 -149.905661\n",
       "4           4        1978  61.218589 -149.905661"
      ]
     },
     "execution_count": 51,
     "metadata": {},
     "output_type": "execute_result"
    }
   ],
   "source": [
    ">>> df = pd.read_csv('resi-cleaned.csv')\n",
    ">>> df.head()"
   ]
  },
  {
   "cell_type": "code",
   "execution_count": 52,
   "id": "6e347245",
   "metadata": {},
   "outputs": [],
   "source": [
    ">>> to_drop = ['Unnamed: 0']\n",
    "\n",
    ">>> df.drop(to_drop, inplace=True, axis=1)"
   ]
  },
  {
   "cell_type": "code",
   "execution_count": 53,
   "id": "52bc58d3",
   "metadata": {},
   "outputs": [],
   "source": [
    "df = df.drop(df.index[df['Year Built'] < 2000])"
   ]
  },
  {
   "cell_type": "code",
   "execution_count": 54,
   "id": "282d4364",
   "metadata": {},
   "outputs": [],
   "source": [
    "df = df.drop(df.index[df['Year Built'] > 2008])"
   ]
  },
  {
   "cell_type": "code",
   "execution_count": 55,
   "id": "d06749d3",
   "metadata": {},
   "outputs": [],
   "source": [
    "df.to_csv('anch2000-08.csv')"
   ]
  },
  {
   "cell_type": "code",
   "execution_count": 56,
   "id": "4afed758",
   "metadata": {},
   "outputs": [
    {
     "data": {
      "text/html": [
       "<div>\n",
       "<style scoped>\n",
       "    .dataframe tbody tr th:only-of-type {\n",
       "        vertical-align: middle;\n",
       "    }\n",
       "\n",
       "    .dataframe tbody tr th {\n",
       "        vertical-align: top;\n",
       "    }\n",
       "\n",
       "    .dataframe thead th {\n",
       "        text-align: right;\n",
       "    }\n",
       "</style>\n",
       "<table border=\"1\" class=\"dataframe\">\n",
       "  <thead>\n",
       "    <tr style=\"text-align: right;\">\n",
       "      <th></th>\n",
       "      <th>Unnamed: 0</th>\n",
       "      <th>Year Built</th>\n",
       "      <th>lat</th>\n",
       "      <th>lng</th>\n",
       "    </tr>\n",
       "  </thead>\n",
       "  <tbody>\n",
       "    <tr>\n",
       "      <th>0</th>\n",
       "      <td>0</td>\n",
       "      <td>1978</td>\n",
       "      <td>61.218589</td>\n",
       "      <td>-149.905661</td>\n",
       "    </tr>\n",
       "    <tr>\n",
       "      <th>1</th>\n",
       "      <td>1</td>\n",
       "      <td>1978</td>\n",
       "      <td>61.218589</td>\n",
       "      <td>-149.905661</td>\n",
       "    </tr>\n",
       "    <tr>\n",
       "      <th>2</th>\n",
       "      <td>2</td>\n",
       "      <td>1978</td>\n",
       "      <td>61.218589</td>\n",
       "      <td>-149.905661</td>\n",
       "    </tr>\n",
       "    <tr>\n",
       "      <th>3</th>\n",
       "      <td>3</td>\n",
       "      <td>1978</td>\n",
       "      <td>61.218589</td>\n",
       "      <td>-149.905661</td>\n",
       "    </tr>\n",
       "    <tr>\n",
       "      <th>4</th>\n",
       "      <td>4</td>\n",
       "      <td>1978</td>\n",
       "      <td>61.218589</td>\n",
       "      <td>-149.905661</td>\n",
       "    </tr>\n",
       "  </tbody>\n",
       "</table>\n",
       "</div>"
      ],
      "text/plain": [
       "   Unnamed: 0  Year Built        lat         lng\n",
       "0           0        1978  61.218589 -149.905661\n",
       "1           1        1978  61.218589 -149.905661\n",
       "2           2        1978  61.218589 -149.905661\n",
       "3           3        1978  61.218589 -149.905661\n",
       "4           4        1978  61.218589 -149.905661"
      ]
     },
     "execution_count": 56,
     "metadata": {},
     "output_type": "execute_result"
    }
   ],
   "source": [
    ">>> df = pd.read_csv('resi-cleaned.csv')\n",
    ">>> df.head()"
   ]
  },
  {
   "cell_type": "code",
   "execution_count": 57,
   "id": "767b36f9",
   "metadata": {},
   "outputs": [],
   "source": [
    ">>> to_drop = ['Unnamed: 0']\n",
    "\n",
    ">>> df.drop(to_drop, inplace=True, axis=1)"
   ]
  },
  {
   "cell_type": "code",
   "execution_count": 58,
   "id": "520e3b66",
   "metadata": {},
   "outputs": [],
   "source": [
    "df = df.drop(df.index[df['Year Built'] < 2009])"
   ]
  },
  {
   "cell_type": "code",
   "execution_count": 59,
   "id": "48434745",
   "metadata": {},
   "outputs": [],
   "source": [
    "df.to_csv('anch2009-19.csv')"
   ]
  },
  {
   "cell_type": "code",
   "execution_count": null,
   "id": "2ab3b1e4",
   "metadata": {},
   "outputs": [],
   "source": []
  }
 ],
 "metadata": {
  "kernelspec": {
   "display_name": "Python 3",
   "language": "python",
   "name": "python3"
  },
  "language_info": {
   "codemirror_mode": {
    "name": "ipython",
    "version": 3
   },
   "file_extension": ".py",
   "mimetype": "text/x-python",
   "name": "python",
   "nbconvert_exporter": "python",
   "pygments_lexer": "ipython3",
   "version": "3.9.1"
  }
 },
 "nbformat": 4,
 "nbformat_minor": 5
}
